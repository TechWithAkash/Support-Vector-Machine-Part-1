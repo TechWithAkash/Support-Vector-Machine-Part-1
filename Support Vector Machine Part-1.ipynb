{
 "cells": [
  {
   "cell_type": "markdown",
   "id": "0fe74a41",
   "metadata": {},
   "source": [
    " Q1. What is the mathematical formula for a linear SVM?"
   ]
  },
  {
   "cell_type": "markdown",
   "id": "38fbc6e7",
   "metadata": {},
   "source": [
    "# =>\n",
    "A linear Support Vector Machine (SVM) is a supervised machine learning algorithm used for binary classification. The mathematical formula for a linear SVM can be represented as follows:\n",
    "\n",
    "Given a training dataset with input vectors xᵢ (i = 1, 2, ..., N) and corresponding binary labels yᵢ (-1 or 1), the goal of a linear SVM is to find the hyperplane that best separates the data into two classes. The hyperplane is represented by the equation:\n",
    "\n",
    "w ⋅ x + b = 0\n",
    "\n",
    "where:\n",
    "- w is the weight vector (also known as the normal vector to the hyperplane).\n",
    "- x is the input feature vector.\n",
    "- b is the bias term.\n",
    "\n",
    "The decision function of the linear SVM for predicting the class of a new input vector x_new is given by:\n",
    "\n",
    "f(x_new) = sign(w ⋅ x_new + b)\n",
    "\n",
    "Here, \"sign\" is the sign function that returns +1 if the value inside it is positive or 0 and -1 if it's negative. This decision function assigns a class label based on whether the input vector lies on one side or the other of the hyperplane.\n",
    "\n",
    "The goal of training a linear SVM is to find the values of w and b that maximize the margin (i.e., the distance between the hyperplane and the nearest data points from each class) while ensuring that all data points are correctly classified. This is typically formulated as an optimization problem and solved using techniques like the support vector machine algorithm.\n"
   ]
  },
  {
   "cell_type": "code",
   "execution_count": null,
   "id": "c270a86f",
   "metadata": {},
   "outputs": [],
   "source": []
  },
  {
   "cell_type": "code",
   "execution_count": null,
   "id": "c9bdc51e",
   "metadata": {},
   "outputs": [],
   "source": [
    "Q2. What is the objective function of a linear SVM?"
   ]
  },
  {
   "cell_type": "markdown",
   "id": "57eaf404",
   "metadata": {},
   "source": [
    "# =>\n",
    "The objective function of a linear Support Vector Machine (SVM) is typically formulated as a margin-maximizing optimization problem. The primary objective of a linear SVM is to find the parameters (weights and bias) that define the hyperplane which maximizes the margin while correctly classifying the training data. The margin is the minimum perpendicular distance from the hyperplane to the closest data points from each class.\n",
    "\n",
    "The objective function can be written as:\n",
    "\n",
    "Minimize: 1/2 ||w||²\n",
    "\n",
    "Subject to the constraints:\n",
    "\n",
    "yᵢ(w ⋅ xᵢ + b) ≥ 1 for all training data points (i = 1, 2, ..., N)\n",
    "\n",
    "In this formulation:\n",
    "- \"w\" is the weight vector (normal to the hyperplane).\n",
    "- \"b\" is the bias term.\n",
    "- \"xᵢ\" represents the training data points.\n",
    "- \"yᵢ\" is the class label for the training data points, where yᵢ = +1 or -1 for the two classes.\n",
    "- N is the number of training data points.\n",
    "\n",
    "The objective is to minimize 1/2 ||w||², which is a measure of the complexity or \"length\" of the weight vector w. This optimization problem aims to find a weight vector \"w\" and bias \"b\" that minimizes the complexity (w) while satisfying the constraint that all data points are correctly classified and are on or beyond the margin (yᵢ(w ⋅ xᵢ + b) ≥ 1). The margin is effectively the distance between the hyperplane and the nearest data points, and the SVM aims to maximize it.\n",
    "\n",
    "This optimization problem is typically solved using various optimization techniques, such as quadratic programming, to find the optimal parameters (w and b) for the linear SVM, leading to a hyperplane that separates the data with the largest margin and correctly classifies the training points."
   ]
  },
  {
   "cell_type": "code",
   "execution_count": null,
   "id": "04b27456",
   "metadata": {},
   "outputs": [],
   "source": []
  },
  {
   "cell_type": "code",
   "execution_count": null,
   "id": "96ce459b",
   "metadata": {},
   "outputs": [],
   "source": [
    "Q3. What is the kernel trick in SVM?"
   ]
  },
  {
   "cell_type": "markdown",
   "id": "3f9cdbd3",
   "metadata": {},
   "source": [
    "# =>\n",
    "The kernel trick is a powerful technique used in Support Vector Machines (SVMs) to extend their applicability to non-linear classification and regression problems. It allows SVMs to work in a higher-dimensional feature space without explicitly transforming the input data into that space. Instead of computing the dot product between input data points in the higher-dimensional space, the kernel trick computes the dot product in the original feature space using a function called a kernel.\n",
    "\n",
    "In a linear SVM, the decision boundary is a hyperplane in the input feature space. However, in many real-world scenarios, the data is not linearly separable, which means that a single hyperplane cannot effectively separate the classes. To address this, SVMs use non-linear kernels to implicitly map the data into a higher-dimensional space where it may become linearly separable.\n",
    "\n",
    "The mathematical representation of the decision function in a kernelized SVM is as follows:\n",
    "\n",
    "f(x) = sign(∑[i=1 to N] αᵢyᵢK(x, xᵢ) + b)\n",
    "\n",
    "In this equation:\n",
    "- \"x\" is the input feature vector you want to classify.\n",
    "- \"αᵢ\" are the Lagrange multipliers obtained during the SVM training.\n",
    "- \"yᵢ\" are the class labels of the training data.\n",
    "- \"xᵢ\" are the support vectors from the training data.\n",
    "- \"K(x, xᵢ)\" is the kernel function that calculates the dot product between the input vector \"x\" and a support vector \"xᵢ\" in the original feature space. The choice of kernel function depends on the problem and can be one of several options, such as linear, polynomial, radial basis function (RBF), or others.\n",
    "\n",
    "Commonly used kernel functions include:\n",
    "\n",
    "1. Linear Kernel: K(x, xᵢ) = x ⋅ xᵢ, which corresponds to a linear decision boundary.\n",
    "\n",
    "2. Polynomial Kernel: K(x, xᵢ) = (γx ⋅ xᵢ + r)ᵈ, where γ, r, and d are kernel parameters.\n",
    "\n",
    "3. Radial Basis Function (RBF) Kernel: K(x, xᵢ) = exp(-γ ||x - xᵢ||²), where γ is a positive constant.\n",
    "\n",
    "By choosing an appropriate kernel function, you can effectively transform the data into a higher-dimensional space where it becomes linearly separable, allowing SVMs to capture non-linear decision boundaries. The kernel trick is a key feature of SVMs that makes them versatile for a wide range of machine learning tasks."
   ]
  },
  {
   "cell_type": "code",
   "execution_count": null,
   "id": "3ba748a3",
   "metadata": {},
   "outputs": [],
   "source": []
  },
  {
   "cell_type": "code",
   "execution_count": null,
   "id": "e85f9470",
   "metadata": {},
   "outputs": [],
   "source": [
    "Q4. What is the role of support vectors in SVM Explain with example\n",
    "\n"
   ]
  },
  {
   "cell_type": "markdown",
   "id": "bc6b48dc",
   "metadata": {},
   "source": [
    "# =>\n",
    "Support vectors play a crucial role in Support Vector Machines (SVMs). They are the data points from the training dataset that are closest to the hyperplane and have the greatest influence on defining the position and orientation of the decision boundary (hyperplane). The term \"support vector\" comes from the fact that these data points support or define the hyperplane.\n",
    "\n",
    "Here's a step-by-step explanation of the role of support vectors in SVMs with an example:\n",
    "\n",
    "1. **Selecting Support Vectors:** During the training of an SVM, the goal is to find the hyperplane that maximizes the margin while correctly classifying the data. Support vectors are the data points that are either misclassified or lie closest to the hyperplane on either side (one for each class). These are the most challenging and influential data points because they are the ones that directly affect the position of the hyperplane.\n",
    "\n",
    "2. **Defining the Margin:** The margin is the region between two parallel hyperplanes that are equidistant from the support vectors. The hyperplane is positioned in such a way that it maximizes the distance between these two hyperplanes. This margin ensures a certain degree of robustness against errors and overfitting.\n",
    "\n",
    "3. **Influence on the Decision Boundary:** The support vectors have the most influence on the decision boundary. If you were to remove or change any other data points, the position of the hyperplane might remain relatively stable. However, if you remove a support vector or move it slightly, it can significantly impact the hyperplane's position and, consequently, the classifier's performance.\n",
    "\n",
    "Example:\n",
    "Let's consider a binary classification problem where you are trying to classify animals as either \"cats\" or \"dogs\" based on two features: height and weight. You have a dataset of animals with their corresponding labels and features.\n",
    "\n",
    "Suppose the SVM training process identifies the following support vectors:\n",
    "- A large dog with a high weight and height.\n",
    "- A small cat with a low weight and height.\n",
    "\n",
    "These support vectors are the closest to the hyperplane and have the most significant influence on defining the decision boundary. The hyperplane is positioned to maximize the margin between these two support vectors. Other data points, such as medium-sized cats or dogs, may not be as influential in determining the hyperplane's position.\n",
    "\n",
    "In this example, the support vectors are critical for the SVM to find the best decision boundary, ensuring that it can classify future animals (not in the training dataset) accurately. They help make the SVM robust and resistant to outliers while maximizing the separation between the two classes."
   ]
  },
  {
   "cell_type": "code",
   "execution_count": null,
   "id": "5b338004",
   "metadata": {},
   "outputs": [],
   "source": []
  },
  {
   "cell_type": "markdown",
   "id": "a4925786",
   "metadata": {},
   "source": [
    "Q5. Illustrate with examples and graphs of Hyperplane, Marginal plane, Soft margin and Hard margin in\n",
    "SVM?"
   ]
  },
  {
   "cell_type": "markdown",
   "id": "8afc0560",
   "metadata": {},
   "source": [
    "# =>\n",
    "To illustrate the concepts of hyperplane, marginal plane, soft margin, and hard margin in Support Vector Machines (SVM), let's use a simple example with two classes, \"A\" and \"B,\" that are not linearly separable in the original feature space. We'll create a 2D feature space for visualization.\n",
    "\n",
    "Example:\n",
    "Suppose you have a dataset of points belonging to two classes, \"A\" and \"B,\" in a 2D feature space.\n",
    "\n",
    "Class A: Red points\n",
    "Class B: Blue points\n",
    "\n",
    "The data points might look like this:\n",
    "\n",
    "```\n",
    "       B\n",
    "       |\n",
    "       |    A\n",
    "       |\n",
    "       |        B\n",
    "       |\n",
    "       |\n",
    "       +--------------------- Feature 1\n",
    "```\n",
    "\n",
    "Now, let's discuss the key concepts:\n",
    "\n",
    "1. **Hyperplane:** In this example, a linear hyperplane in the 2D feature space is a straight line that separates the \"A\" class from the \"B\" class. However, it's clear that no single straight line can perfectly separate the two classes, as they are overlapping. The hyperplane aims to find the best separation.\n",
    "\n",
    "   Here's an example of a hyperplane (represented as a line) that tries to separate the classes:\n",
    "\n",
    "   ```\n",
    "       B\n",
    "       |\n",
    "       |    A\n",
    "       |\n",
    "       |        B\n",
    "       |\n",
    "       |\n",
    "       +--------------------- Hyperplane\n",
    "   ```\n",
    "\n",
    "2. **Marginal Plane:** The marginal plane includes two parallel lines that are equidistant from the hyperplane and define the margin. These lines touch the closest data points from each class and help in calculating the margin.\n",
    "\n",
    "   The marginal plane is represented as two dashed lines parallel to the hyperplane:\n",
    "\n",
    "   ```\n",
    "       B\n",
    "       |\n",
    "       |   A\n",
    "       |    |        Margin\n",
    "       |        |\n",
    "       |           B\n",
    "       |\n",
    "       +--------------------- Hyperplane\n",
    "   ```\n",
    "\n",
    "3. **Hard Margin:** A hard margin SVM seeks to find a hyperplane that perfectly separates the two classes without any data points inside the margin. In the example provided, there is no hard margin solution because the two classes overlap.\n",
    "\n",
    "   For a hard margin solution, you would need non-overlapping classes like this:\n",
    "\n",
    "   ```\n",
    "       B\n",
    "        |\n",
    "        |    \n",
    "        |   A\n",
    "        |\n",
    "        |   \n",
    "        |\n",
    "        +--------------------- Hyperplane (Hard Margin)\n",
    "   ```\n",
    "\n",
    "4. **Soft Margin:** In cases where the classes are not perfectly separable, as in the initial example, a soft margin SVM allows for some misclassification to find a better balance between maximizing the margin and minimizing classification errors. The margin may overlap with some data points.\n",
    "\n",
    "   Here's an example of a soft margin with a small margin overlap:\n",
    "\n",
    "   ```\n",
    "       B\n",
    "       |\n",
    "       |    A\n",
    "       |\n",
    "       |     |      Margin (Soft Margin)\n",
    "       |        |\n",
    "       |        B\n",
    "       |\n",
    "       +--------------------- Hyperplane (Soft Margin)\n",
    "   ```\n",
    "\n",
    "The choice between a hard margin and a soft margin depends on the specific problem and the level of tolerance for misclassification. Soft margin SVMs are more flexible and robust when dealing with real-world, noisy data, as they allow for some degree of error in exchange for a wider margin."
   ]
  },
  {
   "cell_type": "code",
   "execution_count": null,
   "id": "9df319e5",
   "metadata": {},
   "outputs": [],
   "source": []
  },
  {
   "cell_type": "markdown",
   "id": "6b11c390",
   "metadata": {},
   "source": [
    "Q6. SVM Implementation through Iris dataset."
   ]
  },
  {
   "cell_type": "markdown",
   "id": "8b15c5e0",
   "metadata": {},
   "source": [
    "# => "
   ]
  },
  {
   "cell_type": "code",
   "execution_count": 1,
   "id": "be3faa96",
   "metadata": {},
   "outputs": [],
   "source": [
    "import pandas as pd \n",
    "import numpy as np\n",
    "import seaborn as sns\n",
    "import matplotlib.pyplot as plt"
   ]
  },
  {
   "cell_type": "code",
   "execution_count": 4,
   "id": "320fcd51",
   "metadata": {},
   "outputs": [],
   "source": [
    "dataset = sns.load_dataset(\"iris\")"
   ]
  },
  {
   "cell_type": "code",
   "execution_count": 5,
   "id": "6d8437dc",
   "metadata": {},
   "outputs": [
    {
     "data": {
      "text/html": [
       "<div>\n",
       "<style scoped>\n",
       "    .dataframe tbody tr th:only-of-type {\n",
       "        vertical-align: middle;\n",
       "    }\n",
       "\n",
       "    .dataframe tbody tr th {\n",
       "        vertical-align: top;\n",
       "    }\n",
       "\n",
       "    .dataframe thead th {\n",
       "        text-align: right;\n",
       "    }\n",
       "</style>\n",
       "<table border=\"1\" class=\"dataframe\">\n",
       "  <thead>\n",
       "    <tr style=\"text-align: right;\">\n",
       "      <th></th>\n",
       "      <th>sepal_length</th>\n",
       "      <th>sepal_width</th>\n",
       "      <th>petal_length</th>\n",
       "      <th>petal_width</th>\n",
       "      <th>species</th>\n",
       "    </tr>\n",
       "  </thead>\n",
       "  <tbody>\n",
       "    <tr>\n",
       "      <th>0</th>\n",
       "      <td>5.1</td>\n",
       "      <td>3.5</td>\n",
       "      <td>1.4</td>\n",
       "      <td>0.2</td>\n",
       "      <td>setosa</td>\n",
       "    </tr>\n",
       "    <tr>\n",
       "      <th>1</th>\n",
       "      <td>4.9</td>\n",
       "      <td>3.0</td>\n",
       "      <td>1.4</td>\n",
       "      <td>0.2</td>\n",
       "      <td>setosa</td>\n",
       "    </tr>\n",
       "    <tr>\n",
       "      <th>2</th>\n",
       "      <td>4.7</td>\n",
       "      <td>3.2</td>\n",
       "      <td>1.3</td>\n",
       "      <td>0.2</td>\n",
       "      <td>setosa</td>\n",
       "    </tr>\n",
       "    <tr>\n",
       "      <th>3</th>\n",
       "      <td>4.6</td>\n",
       "      <td>3.1</td>\n",
       "      <td>1.5</td>\n",
       "      <td>0.2</td>\n",
       "      <td>setosa</td>\n",
       "    </tr>\n",
       "    <tr>\n",
       "      <th>4</th>\n",
       "      <td>5.0</td>\n",
       "      <td>3.6</td>\n",
       "      <td>1.4</td>\n",
       "      <td>0.2</td>\n",
       "      <td>setosa</td>\n",
       "    </tr>\n",
       "  </tbody>\n",
       "</table>\n",
       "</div>"
      ],
      "text/plain": [
       "   sepal_length  sepal_width  petal_length  petal_width species\n",
       "0           5.1          3.5           1.4          0.2  setosa\n",
       "1           4.9          3.0           1.4          0.2  setosa\n",
       "2           4.7          3.2           1.3          0.2  setosa\n",
       "3           4.6          3.1           1.5          0.2  setosa\n",
       "4           5.0          3.6           1.4          0.2  setosa"
      ]
     },
     "execution_count": 5,
     "metadata": {},
     "output_type": "execute_result"
    }
   ],
   "source": [
    "dataset.head()"
   ]
  },
  {
   "cell_type": "code",
   "execution_count": 9,
   "id": "3c974124",
   "metadata": {},
   "outputs": [],
   "source": [
    "from sklearn import datasets\n"
   ]
  },
  {
   "cell_type": "code",
   "execution_count": 10,
   "id": "7ec96d55",
   "metadata": {},
   "outputs": [
    {
     "name": "stdout",
     "output_type": "stream",
     "text": [
      "Sample of features:\n",
      "[[5.1 3.5 1.4 0.2]\n",
      " [4.9 3.  1.4 0.2]\n",
      " [4.7 3.2 1.3 0.2]\n",
      " [4.6 3.1 1.5 0.2]\n",
      " [5.  3.6 1.4 0.2]]\n",
      "Sample of target labels:\n",
      "[0 0 0 0 0]\n",
      "Feature names:\n",
      "['sepal length (cm)', 'sepal width (cm)', 'petal length (cm)', 'petal width (cm)']\n",
      "Target names:\n",
      "['setosa' 'versicolor' 'virginica']\n"
     ]
    }
   ],
   "source": [
    "iris = datasets.load_iris()\n",
    "X = iris.data \n",
    "y = iris.target  \n",
    "\n",
    "feature_names = iris.feature_names\n",
    "target_names = iris.target_names\n",
    "\n",
    "print(\"Sample of features:\")\n",
    "print(X[:5])  \n",
    "print(\"Sample of target labels:\")\n",
    "print(y[:5])  \n",
    "print(\"Feature names:\")\n",
    "print(feature_names)  s\n",
    "print(\"Target names:\")\n",
    "print(target_names) \n",
    "\n",
    "\n",
    "\n",
    "\n",
    "\n"
   ]
  },
  {
   "cell_type": "code",
   "execution_count": 12,
   "id": "50b27bc6",
   "metadata": {},
   "outputs": [
    {
     "data": {
      "text/plain": [
       "0      5.1\n",
       "1      4.9\n",
       "2      4.7\n",
       "3      4.6\n",
       "4      5.0\n",
       "      ... \n",
       "145    6.7\n",
       "146    6.3\n",
       "147    6.5\n",
       "148    6.2\n",
       "149    5.9\n",
       "Name: 0, Length: 150, dtype: float64"
      ]
     },
     "execution_count": 12,
     "metadata": {},
     "output_type": "execute_result"
    }
   ],
   "source": [
    "pd.DataFrame(X)[0]"
   ]
  },
  {
   "cell_type": "code",
   "execution_count": 14,
   "id": "3a75e9c6",
   "metadata": {},
   "outputs": [
    {
     "data": {
      "text/plain": [
       "<Axes: xlabel='0', ylabel='1'>"
      ]
     },
     "execution_count": 14,
     "metadata": {},
     "output_type": "execute_result"
    },
    {
     "data": {
      "image/png": "[encoded data removed]",
      "text/plain": [
       "<Figure size 640x480 with 1 Axes>"
      ]
     },
     "metadata": {},
     "output_type": "display_data"
    }
   ],
   "source": [
    "sns.scatterplot(x=pd.DataFrame(X)[0],y=pd.DataFrame(X)[1],hue=y)"
   ]
  },
  {
   "cell_type": "code",
   "execution_count": 15,
   "id": "01c936ac",
   "metadata": {},
   "outputs": [],
   "source": [
    "from sklearn.model_selection import train_test_split\n",
    "x_train,x_test,y_train,y_test = train_test_split(X,y,test_size=0.25,random_state=10)"
   ]
  },
  {
   "cell_type": "code",
   "execution_count": 16,
   "id": "2d9287d0",
   "metadata": {},
   "outputs": [],
   "source": [
    "from sklearn.svm import SVC"
   ]
  },
  {
   "cell_type": "code",
   "execution_count": 17,
   "id": "538d96fc",
   "metadata": {},
   "outputs": [],
   "source": [
    "svc = SVC(kernel='linear')"
   ]
  },
  {
   "cell_type": "code",
   "execution_count": 18,
   "id": "f092cb71",
   "metadata": {},
   "outputs": [
    {
     "data": {
      "text/html": [
       "<style>#sk-container-id-1 {color: black;background-color: white;}#sk-container-id-1 pre{padding: 0;}#sk-container-id-1 div.sk-toggleable {background-color: white;}#sk-container-id-1 label.sk-toggleable__label {cursor: pointer;display: block;width: 100%;margin-bottom: 0;padding: 0.3em;box-sizing: border-box;text-align: center;}#sk-container-id-1 label.sk-toggleable__label-arrow:before {content: \"▸\";float: left;margin-right: 0.25em;color: #696969;}#sk-container-id-1 label.sk-toggleable__label-arrow:hover:before {color: black;}#sk-container-id-1 div.sk-estimator:hover label.sk-toggleable__label-arrow:before {color: black;}#sk-container-id-1 div.sk-toggleable__content {max-height: 0;max-width: 0;overflow: hidden;text-align: left;background-color: #f0f8ff;}#sk-container-id-1 div.sk-toggleable__content pre {margin: 0.2em;color: black;border-radius: 0.25em;background-color: #f0f8ff;}#sk-container-id-1 input.sk-toggleable__control:checked~div.sk-toggleable__content {max-height: 200px;max-width: 100%;overflow: auto;}#sk-container-id-1 input.sk-toggleable__control:checked~label.sk-toggleable__label-arrow:before {content: \"▾\";}#sk-container-id-1 div.sk-estimator input.sk-toggleable__control:checked~label.sk-toggleable__label {background-color: #d4ebff;}#sk-container-id-1 div.sk-label input.sk-toggleable__control:checked~label.sk-toggleable__label {background-color: #d4ebff;}#sk-container-id-1 input.sk-hidden--visually {border: 0;clip: rect(1px 1px 1px 1px);clip: rect(1px, 1px, 1px, 1px);height: 1px;margin: -1px;overflow: hidden;padding: 0;position: absolute;width: 1px;}#sk-container-id-1 div.sk-estimator {font-family: monospace;background-color: #f0f8ff;border: 1px dotted black;border-radius: 0.25em;box-sizing: border-box;margin-bottom: 0.5em;}#sk-container-id-1 div.sk-estimator:hover {background-color: #d4ebff;}#sk-container-id-1 div.sk-parallel-item::after {content: \"\";width: 100%;border-bottom: 1px solid gray;flex-grow: 1;}#sk-container-id-1 div.sk-label:hover label.sk-toggleable__label {background-color: #d4ebff;}#sk-container-id-1 div.sk-serial::before {content: \"\";position: absolute;border-left: 1px solid gray;box-sizing: border-box;top: 0;bottom: 0;left: 50%;z-index: 0;}#sk-container-id-1 div.sk-serial {display: flex;flex-direction: column;align-items: center;background-color: white;padding-right: 0.2em;padding-left: 0.2em;position: relative;}#sk-container-id-1 div.sk-item {position: relative;z-index: 1;}#sk-container-id-1 div.sk-parallel {display: flex;align-items: stretch;justify-content: center;background-color: white;position: relative;}#sk-container-id-1 div.sk-item::before, #sk-container-id-1 div.sk-parallel-item::before {content: \"\";position: absolute;border-left: 1px solid gray;box-sizing: border-box;top: 0;bottom: 0;left: 50%;z-index: -1;}#sk-container-id-1 div.sk-parallel-item {display: flex;flex-direction: column;z-index: 1;position: relative;background-color: white;}#sk-container-id-1 div.sk-parallel-item:first-child::after {align-self: flex-end;width: 50%;}#sk-container-id-1 div.sk-parallel-item:last-child::after {align-self: flex-start;width: 50%;}#sk-container-id-1 div.sk-parallel-item:only-child::after {width: 0;}#sk-container-id-1 div.sk-dashed-wrapped {border: 1px dashed gray;margin: 0 0.4em 0.5em 0.4em;box-sizing: border-box;padding-bottom: 0.4em;background-color: white;}#sk-container-id-1 div.sk-label label {font-family: monospace;font-weight: bold;display: inline-block;line-height: 1.2em;}#sk-container-id-1 div.sk-label-container {text-align: center;}#sk-container-id-1 div.sk-container {/* jupyter's `normalize.less` sets `[hidden] { display: none; }` but bootstrap.min.css set `[hidden] { display: none !important; }` so we also need the `!important` here to be able to override the default hidden behavior on the sphinx rendered scikit-learn.org. See: https://github.com/scikit-learn/scikit-learn/issues/21755 */display: inline-block !important;position: relative;}#sk-container-id-1 div.sk-text-repr-fallback {display: none;}</style><div id=\"sk-container-id-1\" class=\"sk-top-container\"><div class=\"sk-text-repr-fallback\"><pre>SVC(kernel=&#x27;linear&#x27;)</pre><b>In a Jupyter environment, please rerun this cell to show the HTML representation or trust the notebook. <br />On GitHub, the HTML representation is unable to render, please try loading this page with nbviewer.org.</b></div><div class=\"sk-container\" hidden><div class=\"sk-item\"><div class=\"sk-estimator sk-toggleable\"><input class=\"sk-toggleable__control sk-hidden--visually\" id=\"sk-estimator-id-1\" type=\"checkbox\" checked><label for=\"sk-estimator-id-1\" class=\"sk-toggleable__label sk-toggleable__label-arrow\">SVC</label><div class=\"sk-toggleable__content\"><pre>SVC(kernel=&#x27;linear&#x27;)</pre></div></div></div></div></div>"
      ],
      "text/plain": [
       "SVC(kernel='linear')"
      ]
     },
     "execution_count": 18,
     "metadata": {},
     "output_type": "execute_result"
    }
   ],
   "source": [
    "svc.fit(x_train,y_train)"
   ]
  },
  {
   "cell_type": "code",
   "execution_count": 19,
   "id": "e2b099bd",
   "metadata": {},
   "outputs": [
    {
     "data": {
      "text/plain": [
       "array([[-0.04619348,  0.52133922, -1.00307924, -0.4641441 ],\n",
       "       [ 0.04016251,  0.17403771, -0.55692011, -0.24365261],\n",
       "       [ 0.81534546,  0.82638331, -1.93619552, -2.00712353]])"
      ]
     },
     "execution_count": 19,
     "metadata": {},
     "output_type": "execute_result"
    }
   ],
   "source": [
    "svc.coef_"
   ]
  },
  {
   "cell_type": "code",
   "execution_count": 20,
   "id": "5f71b0ae",
   "metadata": {},
   "outputs": [],
   "source": [
    "#Prediction\n",
    "y_pred = svc.predict(x_test)"
   ]
  },
  {
   "cell_type": "code",
   "execution_count": 21,
   "id": "8a36efbe",
   "metadata": {},
   "outputs": [
    {
     "data": {
      "text/plain": [
       "array([1, 2, 0, 1, 0, 1, 1, 1, 0, 1, 1, 2, 1, 0, 0, 2, 1, 0, 0, 0, 2, 2,\n",
       "       2, 0, 1, 0, 1, 1, 1, 2, 1, 1, 2, 2, 2, 0, 2, 2])"
      ]
     },
     "execution_count": 21,
     "metadata": {},
     "output_type": "execute_result"
    }
   ],
   "source": [
    "y_pred"
   ]
  },
  {
   "cell_type": "code",
   "execution_count": 22,
   "id": "88e82459",
   "metadata": {},
   "outputs": [],
   "source": [
    "from sklearn.metrics import classification_report,confusion_matrix,accuracy_score"
   ]
  },
  {
   "cell_type": "code",
   "execution_count": 23,
   "id": "8a96839e",
   "metadata": {},
   "outputs": [
    {
     "name": "stdout",
     "output_type": "stream",
     "text": [
      "              precision    recall  f1-score   support\n",
      "\n",
      "           0       1.00      1.00      1.00        11\n",
      "           1       1.00      1.00      1.00        15\n",
      "           2       1.00      1.00      1.00        12\n",
      "\n",
      "    accuracy                           1.00        38\n",
      "   macro avg       1.00      1.00      1.00        38\n",
      "weighted avg       1.00      1.00      1.00        38\n",
      "\n",
      "[[11  0  0]\n",
      " [ 0 15  0]\n",
      " [ 0  0 12]]\n",
      "1.0\n"
     ]
    }
   ],
   "source": [
    "print(classification_report(y_test,y_pred))\n",
    "print(confusion_matrix(y_test,y_pred))\n",
    "print(accuracy_score(y_test,y_pred))\n"
   ]
  }
 ],
 "metadata": {
  "kernelspec": {
   "display_name": "Python 3 (ipykernel)",
   "language": "python",
   "name": "python3"
  },
  "language_info": {
   "codemirror_mode": {
    "name": "ipython",
    "version": 3
   },
   "file_extension": ".py",
   "mimetype": "text/x-python",
   "name": "python",
   "nbconvert_exporter": "python",
   "pygments_lexer": "ipython3",
   "version": "3.10.9"
  }
 },
 "nbformat": 4,
 "nbformat_minor": 5
}
